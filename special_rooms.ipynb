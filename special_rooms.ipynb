{
  "nbformat": 4,
  "nbformat_minor": 0,
  "metadata": {
    "colab": {
      "name": "special_rooms.ipynb",
      "provenance": [],
      "toc_visible": true
    },
    "kernelspec": {
      "name": "python3",
      "display_name": "Python 3"
    }
  },
  "cells": [
    {
      "cell_type": "code",
      "metadata": {
        "id": "Aa9egj9xr8sI",
        "colab_type": "code",
        "colab": {}
      },
      "source": [
        "import pandas as pd\n"
      ],
      "execution_count": 0,
      "outputs": []
    },
    {
      "cell_type": "code",
      "metadata": {
        "id": "vDt6woumsEa-",
        "colab_type": "code",
        "colab": {}
      },
      "source": [
        "df = pd.read_json('https://raw.githubusercontent.com/build-week-pt2/CS-Build-Week-2/matt/room_info.json').T"
      ],
      "execution_count": 0,
      "outputs": []
    },
    {
      "cell_type": "code",
      "metadata": {
        "id": "cnKpq1XhsILt",
        "colab_type": "code",
        "colab": {
          "base_uri": "https://localhost:8080/",
          "height": 1000
        },
        "outputId": "1944969f-ccb3-4881-cc6d-539d40d8338b"
      },
      "source": [
        "df"
      ],
      "execution_count": 22,
      "outputs": [
        {
          "output_type": "execute_result",
          "data": {
            "text/html": [
              "<div>\n",
              "<style scoped>\n",
              "    .dataframe tbody tr th:only-of-type {\n",
              "        vertical-align: middle;\n",
              "    }\n",
              "\n",
              "    .dataframe tbody tr th {\n",
              "        vertical-align: top;\n",
              "    }\n",
              "\n",
              "    .dataframe thead th {\n",
              "        text-align: right;\n",
              "    }\n",
              "</style>\n",
              "<table border=\"1\" class=\"dataframe\">\n",
              "  <thead>\n",
              "    <tr style=\"text-align: right;\">\n",
              "      <th></th>\n",
              "      <th>room_id</th>\n",
              "      <th>title</th>\n",
              "      <th>description</th>\n",
              "      <th>coordinates</th>\n",
              "      <th>elevation</th>\n",
              "      <th>terrain</th>\n",
              "      <th>players</th>\n",
              "      <th>items</th>\n",
              "      <th>exits</th>\n",
              "      <th>cooldown</th>\n",
              "      <th>errors</th>\n",
              "      <th>messages</th>\n",
              "    </tr>\n",
              "  </thead>\n",
              "  <tbody>\n",
              "    <tr>\n",
              "      <th>125</th>\n",
              "      <td>125</td>\n",
              "      <td>A misty room</td>\n",
              "      <td>You are standing on grass and surrounded by a ...</td>\n",
              "      <td>(58,66)</td>\n",
              "      <td>0</td>\n",
              "      <td>NORMAL</td>\n",
              "      <td>[]</td>\n",
              "      <td>[]</td>\n",
              "      <td>[n, e, w]</td>\n",
              "      <td>1</td>\n",
              "      <td>[]</td>\n",
              "      <td>[]</td>\n",
              "    </tr>\n",
              "    <tr>\n",
              "      <th>165</th>\n",
              "      <td>165</td>\n",
              "      <td>A misty room</td>\n",
              "      <td>You are standing on grass and surrounded by a ...</td>\n",
              "      <td>(58,67)</td>\n",
              "      <td>0</td>\n",
              "      <td>NORMAL</td>\n",
              "      <td>[]</td>\n",
              "      <td>[]</td>\n",
              "      <td>[n, s, w]</td>\n",
              "      <td>15</td>\n",
              "      <td>[]</td>\n",
              "      <td>[You have walked north.]</td>\n",
              "    </tr>\n",
              "    <tr>\n",
              "      <th>204</th>\n",
              "      <td>204</td>\n",
              "      <td>A misty room</td>\n",
              "      <td>You are standing on grass and surrounded by a ...</td>\n",
              "      <td>(57,67)</td>\n",
              "      <td>0</td>\n",
              "      <td>NORMAL</td>\n",
              "      <td>[]</td>\n",
              "      <td>[tiny treasure]</td>\n",
              "      <td>[n, e, w]</td>\n",
              "      <td>15</td>\n",
              "      <td>[]</td>\n",
              "      <td>[You have walked west.]</td>\n",
              "    </tr>\n",
              "    <tr>\n",
              "      <th>219</th>\n",
              "      <td>219</td>\n",
              "      <td>A misty room</td>\n",
              "      <td>You are standing on grass and surrounded by a ...</td>\n",
              "      <td>(57,68)</td>\n",
              "      <td>0</td>\n",
              "      <td>NORMAL</td>\n",
              "      <td>[]</td>\n",
              "      <td>[]</td>\n",
              "      <td>[s]</td>\n",
              "      <td>15</td>\n",
              "      <td>[]</td>\n",
              "      <td>[You have walked north.]</td>\n",
              "    </tr>\n",
              "    <tr>\n",
              "      <th>216</th>\n",
              "      <td>216</td>\n",
              "      <td>A Dark Cave</td>\n",
              "      <td>You are standing in a dark cave.</td>\n",
              "      <td>(56,67)</td>\n",
              "      <td>0</td>\n",
              "      <td>CAVE</td>\n",
              "      <td>[]</td>\n",
              "      <td>[tiny treasure]</td>\n",
              "      <td>[n, e, w]</td>\n",
              "      <td>15</td>\n",
              "      <td>[]</td>\n",
              "      <td>[You have walked west.]</td>\n",
              "    </tr>\n",
              "    <tr>\n",
              "      <th>...</th>\n",
              "      <td>...</td>\n",
              "      <td>...</td>\n",
              "      <td>...</td>\n",
              "      <td>...</td>\n",
              "      <td>...</td>\n",
              "      <td>...</td>\n",
              "      <td>...</td>\n",
              "      <td>...</td>\n",
              "      <td>...</td>\n",
              "      <td>...</td>\n",
              "      <td>...</td>\n",
              "      <td>...</td>\n",
              "    </tr>\n",
              "    <tr>\n",
              "      <th>110</th>\n",
              "      <td>110</td>\n",
              "      <td>A misty room</td>\n",
              "      <td>You are standing on grass and surrounded by a ...</td>\n",
              "      <td>(58,65)</td>\n",
              "      <td>0</td>\n",
              "      <td>NORMAL</td>\n",
              "      <td>[]</td>\n",
              "      <td>[]</td>\n",
              "      <td>[e]</td>\n",
              "      <td>15</td>\n",
              "      <td>[]</td>\n",
              "      <td>[You have walked west.]</td>\n",
              "    </tr>\n",
              "    <tr>\n",
              "      <th>237</th>\n",
              "      <td>237</td>\n",
              "      <td>A misty room</td>\n",
              "      <td>You are standing on grass and surrounded by a ...</td>\n",
              "      <td>(57,66)</td>\n",
              "      <td>0</td>\n",
              "      <td>NORMAL</td>\n",
              "      <td>[]</td>\n",
              "      <td>[]</td>\n",
              "      <td>[e, w]</td>\n",
              "      <td>15</td>\n",
              "      <td>[]</td>\n",
              "      <td>[You have walked west.]</td>\n",
              "    </tr>\n",
              "    <tr>\n",
              "      <th>245</th>\n",
              "      <td>245</td>\n",
              "      <td>A misty room</td>\n",
              "      <td>You are standing on grass and surrounded by a ...</td>\n",
              "      <td>(56,66)</td>\n",
              "      <td>0</td>\n",
              "      <td>NORMAL</td>\n",
              "      <td>[]</td>\n",
              "      <td>[]</td>\n",
              "      <td>[s, e]</td>\n",
              "      <td>15</td>\n",
              "      <td>[]</td>\n",
              "      <td>[You have walked west.]</td>\n",
              "    </tr>\n",
              "    <tr>\n",
              "      <th>254</th>\n",
              "      <td>254</td>\n",
              "      <td>A misty room</td>\n",
              "      <td>You are standing on grass and surrounded by a ...</td>\n",
              "      <td>(56,65)</td>\n",
              "      <td>0</td>\n",
              "      <td>NORMAL</td>\n",
              "      <td>[]</td>\n",
              "      <td>[]</td>\n",
              "      <td>[n, w]</td>\n",
              "      <td>15</td>\n",
              "      <td>[]</td>\n",
              "      <td>[You have walked south.]</td>\n",
              "    </tr>\n",
              "    <tr>\n",
              "      <th>314</th>\n",
              "      <td>314</td>\n",
              "      <td>A misty room</td>\n",
              "      <td>You are standing on grass and surrounded by a ...</td>\n",
              "      <td>(55,65)</td>\n",
              "      <td>0</td>\n",
              "      <td>NORMAL</td>\n",
              "      <td>[]</td>\n",
              "      <td>[]</td>\n",
              "      <td>[e]</td>\n",
              "      <td>15</td>\n",
              "      <td>[]</td>\n",
              "      <td>[You have walked west.]</td>\n",
              "    </tr>\n",
              "  </tbody>\n",
              "</table>\n",
              "<p>500 rows × 12 columns</p>\n",
              "</div>"
            ],
            "text/plain": [
              "    room_id         title  ... errors                  messages\n",
              "125     125  A misty room  ...     []                        []\n",
              "165     165  A misty room  ...     []  [You have walked north.]\n",
              "204     204  A misty room  ...     []   [You have walked west.]\n",
              "219     219  A misty room  ...     []  [You have walked north.]\n",
              "216     216   A Dark Cave  ...     []   [You have walked west.]\n",
              "..      ...           ...  ...    ...                       ...\n",
              "110     110  A misty room  ...     []   [You have walked west.]\n",
              "237     237  A misty room  ...     []   [You have walked west.]\n",
              "245     245  A misty room  ...     []   [You have walked west.]\n",
              "254     254  A misty room  ...     []  [You have walked south.]\n",
              "314     314  A misty room  ...     []   [You have walked west.]\n",
              "\n",
              "[500 rows x 12 columns]"
            ]
          },
          "metadata": {
            "tags": []
          },
          "execution_count": 22
        }
      ]
    },
    {
      "cell_type": "code",
      "metadata": {
        "id": "cu3DLGfysIrl",
        "colab_type": "code",
        "colab": {
          "base_uri": "https://localhost:8080/",
          "height": 204
        },
        "outputId": "62072ccf-8ed7-4ba0-f6d6-584651102d00"
      },
      "source": [
        "items = pd.DataFrame(df['items'].tolist(), columns=['item_1', 'item_2', 'item_3'])\n",
        "items.head()"
      ],
      "execution_count": 23,
      "outputs": [
        {
          "output_type": "execute_result",
          "data": {
            "text/html": [
              "<div>\n",
              "<style scoped>\n",
              "    .dataframe tbody tr th:only-of-type {\n",
              "        vertical-align: middle;\n",
              "    }\n",
              "\n",
              "    .dataframe tbody tr th {\n",
              "        vertical-align: top;\n",
              "    }\n",
              "\n",
              "    .dataframe thead th {\n",
              "        text-align: right;\n",
              "    }\n",
              "</style>\n",
              "<table border=\"1\" class=\"dataframe\">\n",
              "  <thead>\n",
              "    <tr style=\"text-align: right;\">\n",
              "      <th></th>\n",
              "      <th>item_1</th>\n",
              "      <th>item_2</th>\n",
              "      <th>item_3</th>\n",
              "    </tr>\n",
              "  </thead>\n",
              "  <tbody>\n",
              "    <tr>\n",
              "      <th>0</th>\n",
              "      <td>None</td>\n",
              "      <td>None</td>\n",
              "      <td>None</td>\n",
              "    </tr>\n",
              "    <tr>\n",
              "      <th>1</th>\n",
              "      <td>None</td>\n",
              "      <td>None</td>\n",
              "      <td>None</td>\n",
              "    </tr>\n",
              "    <tr>\n",
              "      <th>2</th>\n",
              "      <td>tiny treasure</td>\n",
              "      <td>None</td>\n",
              "      <td>None</td>\n",
              "    </tr>\n",
              "    <tr>\n",
              "      <th>3</th>\n",
              "      <td>None</td>\n",
              "      <td>None</td>\n",
              "      <td>None</td>\n",
              "    </tr>\n",
              "    <tr>\n",
              "      <th>4</th>\n",
              "      <td>tiny treasure</td>\n",
              "      <td>None</td>\n",
              "      <td>None</td>\n",
              "    </tr>\n",
              "  </tbody>\n",
              "</table>\n",
              "</div>"
            ],
            "text/plain": [
              "          item_1 item_2 item_3\n",
              "0           None   None   None\n",
              "1           None   None   None\n",
              "2  tiny treasure   None   None\n",
              "3           None   None   None\n",
              "4  tiny treasure   None   None"
            ]
          },
          "metadata": {
            "tags": []
          },
          "execution_count": 23
        }
      ]
    },
    {
      "cell_type": "code",
      "metadata": {
        "id": "6-ybT3aJsUAy",
        "colab_type": "code",
        "colab": {
          "base_uri": "https://localhost:8080/",
          "height": 53
        },
        "outputId": "e24c338b-6cb4-4c67-fc90-6ba941cf748f"
      },
      "source": [
        "items['item_1'].value_counts()"
      ],
      "execution_count": 24,
      "outputs": [
        {
          "output_type": "execute_result",
          "data": {
            "text/plain": [
              "tiny treasure    315\n",
              "Name: item_1, dtype: int64"
            ]
          },
          "metadata": {
            "tags": []
          },
          "execution_count": 24
        }
      ]
    },
    {
      "cell_type": "code",
      "metadata": {
        "id": "EDiXArQxtAK3",
        "colab_type": "code",
        "colab": {
          "base_uri": "https://localhost:8080/",
          "height": 287
        },
        "outputId": "69399b4b-03a0-4ada-e86a-9d6c4d4e22d1"
      },
      "source": [
        "df['title'].value_counts()"
      ],
      "execution_count": 25,
      "outputs": [
        {
          "output_type": "execute_result",
          "data": {
            "text/plain": [
              "A misty room                424\n",
              "A Dark Cave                  36\n",
              "Mt. Holloway                 29\n",
              "Fully Shrine                  1\n",
              "Glasowyn's Grave              1\n",
              "Pirate Ry's                   1\n",
              "Wishing Well                  1\n",
              "Shop                          1\n",
              "Arron's Athenaeum             1\n",
              "The Transmogriphier           1\n",
              "Sandofsky's Sanctum           1\n",
              "Linh's Shrine                 1\n",
              "A brightly lit room           1\n",
              "The Peak of Mt. Holloway      1\n",
              "Name: title, dtype: int64"
            ]
          },
          "metadata": {
            "tags": []
          },
          "execution_count": 25
        }
      ]
    },
    {
      "cell_type": "code",
      "metadata": {
        "id": "atbyi5hptI5a",
        "colab_type": "code",
        "colab": {}
      },
      "source": [
        "shop = df['title'] == 'Shop'\n",
        "Glasowyn_Grave = df['title'] == \"Glasowyn's Grave\"\n",
        "Arron_Athenaeum = df['title'] == \"Arron's Athenaeum\"\n",
        "Fully_Shrine = df['title'] == \"Fully Shrine\"\n",
        "Sandofsky_Sanctum = df['title'] == \"Sandofsky's Sanctum\"\n",
        "brightly_lit_room = df['title'] == \"A brightly lit room\"\n",
        "Wishing_Well = df['title'] == \"Wishing Well\"\n",
        "Linh_Shrine = df['title'] == \"Linh's Shrine\"\n",
        "The_Transmogriphier = df['title'] == \"The Transmogriphier\"\n",
        "Peak_Mt_Holloway = df['title'] == \"The Peak of Mt. Holloway\"\n",
        "Pirate_Ry = df['title'] == \"Pirate Ry's\"\n",
        "\n",
        "special_rooms = df[shop | Glasowyn_Grave | Arron_Athenaeum | Fully_Shrine | Sandofsky_Sanctum | brightly_lit_room | Wishing_Well | Linh_Shrine | The_Transmogriphier | Peak_Mt_Holloway | Pirate_Ry]"
      ],
      "execution_count": 0,
      "outputs": []
    },
    {
      "cell_type": "code",
      "metadata": {
        "id": "VmiTv_4NtbWh",
        "colab_type": "code",
        "colab": {
          "base_uri": "https://localhost:8080/",
          "height": 235
        },
        "outputId": "f381dced-5e01-4eae-f994-81b427a758a6"
      },
      "source": [
        "special_rooms.to_dict()['description']"
      ],
      "execution_count": 44,
      "outputs": [
        {
          "output_type": "execute_result",
          "data": {
            "text/plain": [
              "{0: 'You are standing in the center of a brightly lit room. You notice a shop to the west and exits to the north, south and east.',\n",
              " 1: \"You are standing in a small shop. A sign behind the mechanical shopkeeper says 'WILL PAY FOR TREASURE'.\",\n",
              " 22: 'You are standing at the zenith of Mt. Holloway. You see before you a holy shrine erected in the image of a magnificent winged deity.',\n",
              " 55: \"You are standing besides a large well. A sign next the well reads 'EXAMINE WELL, FIND WEALTH'.\",\n",
              " 374: 'Here lies a shrine for Full-lifey, who captured the golden snitch and gained the power to warp between worlds with some help from his team and a solitary spy.',\n",
              " 461: 'You are standing before a glowing shrine to a Linh, the Swift. She looks quite fast.',\n",
              " 467: \"You see a sign before you that reads:\\n\\n'You have found Pirate Ry's. Send a `change_name` request and I'll change your identity to whatever you wish... for a price.'\",\n",
              " 486: \"Before you lies a radiant book of knowledge, on a pedestal inlaid with Lambda Coins. Below, a plaque reads:  Herin exists knowledge gathered by Arron of Web19/CS21. Always seek to learn. Ask questions. Don't panic, bring a towel.\",\n",
              " 492: 'Before you stands a statue of Sandofsky, musclebound hero from times of old: Cold as ice and twice as smooth. You feel a chill as thoughts of algorithms fill the air. Before the statue, a plaque reads, \"Being a Hero, sometimes you must Recall to Zero.\"',\n",
              " 495: 'A strange machine stands in this room.  There is a large opening on the top.  A placard reads, \"Test your luck!  One item and one Lambdacoin!\"',\n",
              " 499: \"You see a moss-topped gravestone which reads: 'Here lies Glasowyn of Web17/Labs12/CS18, who was crushed under the weight of her own gold.' There doesn't seem to be any gold around, but marks in the dirt suggest that someone has knelt there, perhaps in prayer.\"}"
            ]
          },
          "metadata": {
            "tags": []
          },
          "execution_count": 44
        }
      ]
    },
    {
      "cell_type": "code",
      "metadata": {
        "id": "iwYQoJ0-x48n",
        "colab_type": "code",
        "colab": {}
      },
      "source": [
        "import json\n",
        "\n",
        "with open(\"https://raw.githubusercontent.com/build-week-pt2/CS-Build-Week-2/matt/room_map.json\") as f:\n",
        "  traversial_graph = json.load(f)\n",
        "  f.close()"
      ],
      "execution_count": 0,
      "outputs": []
    },
    {
      "cell_type": "code",
      "metadata": {
        "id": "w7c-TU4RyjQo",
        "colab_type": "code",
        "colab": {}
      },
      "source": [
        "class Queue():\n",
        "    def __init__(self):\n",
        "        self.queue = []\n",
        "    def enqueue(self, value):\n",
        "        self.queue.append(value)\n",
        "    def dequeue(self):\n",
        "        if self.size() > 0:\n",
        "            return self.queue.pop(0)\n",
        "        else:\n",
        "            return None\n",
        "    def size(self):\n",
        "        return len(self.queue)"
      ],
      "execution_count": 0,
      "outputs": []
    },
    {
      "cell_type": "code",
      "metadata": {
        "id": "yBlxVnJky6nf",
        "colab_type": "code",
        "colab": {}
      },
      "source": [
        "def reverse_dict(dictionary):\n",
        "    return {str(v): str(k) for k, v in dictionary.items()}"
      ],
      "execution_count": 0,
      "outputs": []
    },
    {
      "cell_type": "code",
      "metadata": {
        "id": "DO0mVLiMv0PY",
        "colab_type": "code",
        "colab": {}
      },
      "source": [
        "def bfs(start_id, end_id):\n",
        "    q = Queue()\n",
        "    q.enqueue([start_id])\n",
        "    visited = set()\n",
        "    while q.size() > 0:\n",
        "        path = q.dequeue()\n",
        "        v = path[-1]\n",
        "        if v not in visited:\n",
        "            if v == end_id:\n",
        "                return path\n",
        "            visited.add(v)\n",
        "            for neighbor in list(traversial_graph[v].values()):\n",
        "                new_path = list(path)\n",
        "                new_path.append(str(neighbor))\n",
        "                q.enqueue(new_path)\n",
        "    return None"
      ],
      "execution_count": 0,
      "outputs": []
    },
    {
      "cell_type": "code",
      "metadata": {
        "id": "NHVfWiF_ydl1",
        "colab_type": "code",
        "colab": {
          "base_uri": "https://localhost:8080/",
          "height": 35
        },
        "outputId": "b2dc5943-a1be-48b2-8ae9-5dcda14d181f"
      },
      "source": [
        "bfs('77', '1')"
      ],
      "execution_count": 32,
      "outputs": [
        {
          "output_type": "execute_result",
          "data": {
            "text/plain": [
              "['77', '19', '10', '0', '1']"
            ]
          },
          "metadata": {
            "tags": []
          },
          "execution_count": 32
        }
      ]
    },
    {
      "cell_type": "code",
      "metadata": {
        "id": "m-l9c409ynAt",
        "colab_type": "code",
        "colab": {}
      },
      "source": [
        "short_path = bfs('77', '1')\n",
        "directed_path = []\n",
        "for i in range(len(short_path) + 1):\n",
        "    if i + 1 < len(short_path):\n",
        "        direction = reverse_dict(\n",
        "            traversial_graph[str(short_path[i])])[short_path[i+1]]\n",
        "        directed_path.append(direction)"
      ],
      "execution_count": 0,
      "outputs": []
    },
    {
      "cell_type": "code",
      "metadata": {
        "id": "DiehAohgy27f",
        "colab_type": "code",
        "colab": {
          "base_uri": "https://localhost:8080/",
          "height": 35
        },
        "outputId": "14f27ba3-af34-4373-d047-fe64983c854b"
      },
      "source": [
        "directed_path"
      ],
      "execution_count": 34,
      "outputs": [
        {
          "output_type": "execute_result",
          "data": {
            "text/plain": [
              "['e', 's', 's', 'w']"
            ]
          },
          "metadata": {
            "tags": []
          },
          "execution_count": 34
        }
      ]
    },
    {
      "cell_type": "code",
      "metadata": {
        "id": "caBxBZdjy9N9",
        "colab_type": "code",
        "colab": {
          "base_uri": "https://localhost:8080/",
          "height": 35
        },
        "outputId": "c271c9a9-200a-4c7b-d64b-54df3111a0e1"
      },
      "source": [
        "dict(zip(bfs('77', '1'), directed_path))"
      ],
      "execution_count": 35,
      "outputs": [
        {
          "output_type": "execute_result",
          "data": {
            "text/plain": [
              "{'0': 'w', '10': 's', '19': 's', '77': 'e'}"
            ]
          },
          "metadata": {
            "tags": []
          },
          "execution_count": 35
        }
      ]
    },
    {
      "cell_type": "code",
      "metadata": {
        "id": "7EJNMZg2zmHm",
        "colab_type": "code",
        "colab": {}
      },
      "source": [
        "def path_dict(start_id, end_id):\n",
        "    short_path = bfs(str(start_id), str(end_id))\n",
        "    directed_path = []\n",
        "    for i in range(len(short_path) + 1):\n",
        "        if i + 1 < len(short_path):\n",
        "            direction = reverse_dict(\n",
        "                traversial_graph[str(short_path[i])])[short_path[i+1]]\n",
        "            directed_path.append(direction)\n",
        "    return dict(zip(short_path, directed_path))"
      ],
      "execution_count": 0,
      "outputs": []
    },
    {
      "cell_type": "code",
      "metadata": {
        "id": "poDCH82MzIru",
        "colab_type": "code",
        "colab": {
          "base_uri": "https://localhost:8080/",
          "height": 35
        },
        "outputId": "2c786958-542c-4779-8d1e-94a6b0aa0f70"
      },
      "source": [
        "special_rooms['room_id'].to_list()"
      ],
      "execution_count": 37,
      "outputs": [
        {
          "output_type": "execute_result",
          "data": {
            "text/plain": [
              "[499, 461, 486, 374, 0, 55, 1, 22, 492, 495, 467]"
            ]
          },
          "metadata": {
            "tags": []
          },
          "execution_count": 37
        }
      ]
    },
    {
      "cell_type": "code",
      "metadata": {
        "id": "Vs7w-ffbzekb",
        "colab_type": "code",
        "colab": {
          "base_uri": "https://localhost:8080/",
          "height": 1000
        },
        "outputId": "2344871a-6e79-434d-e21d-d34a660caf11"
      },
      "source": [
        "paths = {}\n",
        "starting_room = 0\n",
        "for i in range(len(special_rooms)):\n",
        "  paths[special_rooms['title'].to_list()[i]] = path_dict(starting_room, special_rooms['room_id'].tolist()[i])\n",
        "\n",
        "paths"
      ],
      "execution_count": 43,
      "outputs": [
        {
          "output_type": "execute_result",
          "data": {
            "text/plain": [
              "{'A brightly lit room': {},\n",
              " \"Arron's Athenaeum\": {'0': 'n',\n",
              "  '10': 'n',\n",
              "  '145': 'n',\n",
              "  '174': 'n',\n",
              "  '19': 'n',\n",
              "  '192': 'e',\n",
              "  '20': 'e',\n",
              "  '223': 'n',\n",
              "  '27': 'e',\n",
              "  '283': 'n',\n",
              "  '30': 'e',\n",
              "  '32': 'n',\n",
              "  '331': 'e',\n",
              "  '39': 'e',\n",
              "  '446': 'e',\n",
              "  '466': 's',\n",
              "  '51': 'e',\n",
              "  '57': 'e'},\n",
              " 'Fully Shrine': {'0': 'n',\n",
              "  '10': 'n',\n",
              "  '119': 'n',\n",
              "  '134': 'n',\n",
              "  '147': 'w',\n",
              "  '151': 'w',\n",
              "  '19': 'n',\n",
              "  '20': 'e',\n",
              "  '207': 'n',\n",
              "  '231': 'w',\n",
              "  '248': 'w',\n",
              "  '27': 'e',\n",
              "  '280': 'n',\n",
              "  '30': 'e',\n",
              "  '32': 'n',\n",
              "  '325': 'w',\n",
              "  '39': 'n',\n",
              "  '53': 'n',\n",
              "  '95': 'n'},\n",
              " \"Glasowyn's Grave\": {'0': 'n',\n",
              "  '10': 'n',\n",
              "  '125': 'n',\n",
              "  '165': 'w',\n",
              "  '19': 'n',\n",
              "  '20': 'n',\n",
              "  '204': 'w',\n",
              "  '216': 'w',\n",
              "  '218': 'w',\n",
              "  '242': 'w',\n",
              "  '275': 'w',\n",
              "  '456': 'w',\n",
              "  '63': 'n',\n",
              "  '72': 'w',\n",
              "  '76': 'n',\n",
              "  '83': 'w'},\n",
              " \"Linh's Shrine\": {'0': 'n',\n",
              "  '10': 'n',\n",
              "  '125': 'n',\n",
              "  '165': 'w',\n",
              "  '19': 'n',\n",
              "  '20': 'n',\n",
              "  '204': 'w',\n",
              "  '216': 'n',\n",
              "  '234': 'w',\n",
              "  '252': 'n',\n",
              "  '284': 'n',\n",
              "  '302': 'n',\n",
              "  '422': 'n',\n",
              "  '426': 'n',\n",
              "  '457': 'n',\n",
              "  '63': 'n',\n",
              "  '72': 'w',\n",
              "  '76': 'n',\n",
              "  '83': 'w'},\n",
              " \"Pirate Ry's\": {'0': 's',\n",
              "  '100': 'e',\n",
              "  '112': 's',\n",
              "  '12': 'e',\n",
              "  '14': 's',\n",
              "  '141': 'e',\n",
              "  '156': 'e',\n",
              "  '164': 'e',\n",
              "  '2': 'e',\n",
              "  '298': 's',\n",
              "  '3': 's',\n",
              "  '324': 's',\n",
              "  '34': 'e',\n",
              "  '349': 's',\n",
              "  '35': 's',\n",
              "  '352': 's',\n",
              "  '362': 's',\n",
              "  '399': 's',\n",
              "  '52': 's',\n",
              "  '68': 'e',\n",
              "  '9': 's'},\n",
              " \"Sandofsky's Sanctum\": {'0': 's',\n",
              "  '108': 's',\n",
              "  '117': 's',\n",
              "  '12': 's',\n",
              "  '131': 'w',\n",
              "  '138': 'w',\n",
              "  '18': 's',\n",
              "  '195': 's',\n",
              "  '2': 'e',\n",
              "  '22': 's',\n",
              "  '228': 's',\n",
              "  '281': 'w',\n",
              "  '3': 's',\n",
              "  '317': 's',\n",
              "  '387': 'w',\n",
              "  '431': 'w',\n",
              "  '78': 's',\n",
              "  '9': 's'},\n",
              " 'Shop': {'0': 'w'},\n",
              " 'The Peak of Mt. Holloway': {'0': 's',\n",
              "  '12': 's',\n",
              "  '18': 's',\n",
              "  '2': 'e',\n",
              "  '3': 's',\n",
              "  '9': 's'},\n",
              " 'The Transmogriphier': {'0': 's',\n",
              "  '102': 'w',\n",
              "  '12': 's',\n",
              "  '142': 'w',\n",
              "  '159': 'w',\n",
              "  '18': 's',\n",
              "  '196': 'w',\n",
              "  '197': 'n',\n",
              "  '2': 'e',\n",
              "  '22': 'w',\n",
              "  '232': 'w',\n",
              "  '235': 'n',\n",
              "  '3': 's',\n",
              "  '330': 'w',\n",
              "  '36': 'w',\n",
              "  '383': 'w',\n",
              "  '60': 'w',\n",
              "  '70': 'w',\n",
              "  '9': 's',\n",
              "  '98': 'n'},\n",
              " 'Wishing Well': {'0': 'e', '23': 'e', '26': 'e', '4': 'n'}}"
            ]
          },
          "metadata": {
            "tags": []
          },
          "execution_count": 43
        }
      ]
    },
    {
      "cell_type": "code",
      "metadata": {
        "id": "PWq46RP36lz5",
        "colab_type": "code",
        "colab": {}
      },
      "source": [
        ""
      ],
      "execution_count": 0,
      "outputs": []
    }
  ]
}