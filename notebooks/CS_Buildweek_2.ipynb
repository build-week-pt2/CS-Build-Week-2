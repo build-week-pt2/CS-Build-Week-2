{
 "cells": [
  {
   "cell_type": "markdown",
   "metadata": {
    "colab_type": "text",
    "id": "hM5TU47nkiXX"
   },
   "source": [
    "# CS Buildweek 2 Project\n",
    "\n",
    "#### MVP Goal: Mine 1 Lambda Coin\n",
    "\n",
    "- Phase 1: Build a map\n",
    "- Phase 2: Find the name changer\n",
    "- Phase 3: Find the wishing well\n",
    "- Phase 4: Mine Lambda coin\n",
    "\n"
   ]
  },
  {
   "cell_type": "markdown",
   "metadata": {
    "colab_type": "text",
    "id": "pE-bv-w2feVJ"
   },
   "source": [
    "## Start"
   ]
  },
  {
   "cell_type": "code",
   "execution_count": 1,
   "metadata": {
    "colab": {},
    "colab_type": "code",
    "id": "rbx14ABUbkn_"
   },
   "outputs": [],
   "source": [
    "import requests\n",
    "import json\n",
    "\n",
    "my_token = \"Token 4e558caea9ae35eb8eddc5f9b256faa32804f67b\""
   ]
  },
  {
   "cell_type": "code",
   "execution_count": 2,
   "metadata": {
    "colab": {},
    "colab_type": "code",
    "id": "vNUii2fbb9hp"
   },
   "outputs": [],
   "source": [
    "r = requests.get(\n",
    "    \"https://lambda-treasure-hunt.herokuapp.com/api/adv/init/\",\n",
    "    headers = {\"Authorization\": my_token}\n",
    ")"
   ]
  },
  {
   "cell_type": "code",
   "execution_count": 4,
   "metadata": {
    "colab": {
     "base_uri": "https://localhost:8080/",
     "height": 161
    },
    "colab_type": "code",
    "id": "9WeWNhT7dH2J",
    "outputId": "8a04d11c-ed2d-46b3-e909-cf48cc6c6871"
   },
   "outputs": [
    {
     "data": {
      "text/plain": [
       "0"
      ]
     },
     "execution_count": 4,
     "metadata": {},
     "output_type": "execute_result"
    }
   ],
   "source": [
    "r.json()['room_id']"
   ]
  },
  {
   "cell_type": "markdown",
   "metadata": {
    "colab_type": "text",
    "id": "7-3IiD_jfglx"
   },
   "source": [
    "## Movement"
   ]
  },
  {
   "cell_type": "code",
   "execution_count": 0,
   "metadata": {
    "colab": {},
    "colab_type": "code",
    "id": "9sVXSvJhf3_U"
   },
   "outputs": [],
   "source": [
    "def move(direction):\n",
    "    r = requests.post(\n",
    "        \"https://lambda-treasure-hunt.herokuapp.com/api/adv/move/\",\n",
    "        data = json.dumps({\"direction\": direction}),\n",
    "        headers = {\n",
    "            \"Authorization\": my_token,\n",
    "            \"Content-Type\": \"application/json\"\n",
    "        }\n",
    "    )\n",
    "\n",
    "    return r.json()"
   ]
  },
  {
   "cell_type": "markdown",
   "metadata": {
    "colab_type": "text",
    "id": "_2UIYgiinYHK"
   },
   "source": [
    "move(\"n\")\n",
    "\n",
    "--------\n",
    "\n",
    "{'cooldown': 100.0,\n",
    "\n",
    " 'coordinates': '(60,62)',\n",
    "\n",
    " 'description': 'You cannot see anything.',\n",
    "\n",
    " 'errors': [],\n",
    "\n",
    " 'exits': ['n', 's', 'w'],\n",
    "\n",
    " 'messages': ['You have walked north.'],\n",
    "\n",
    " 'room_id': 19,\n",
    "\n",
    " 'title': 'A Dark Room'}"
   ]
  },
  {
   "cell_type": "markdown",
   "metadata": {
    "colab_type": "text",
    "id": "gU9qQR1MleFI"
   },
   "source": [
    "## Items"
   ]
  },
  {
   "cell_type": "code",
   "execution_count": 0,
   "metadata": {
    "colab": {},
    "colab_type": "code",
    "id": "BGbvdQm7gWA4"
   },
   "outputs": [],
   "source": [
    "def pickup(item):\n",
    "    r = requests.post(\n",
    "        \"https://lambda-treasure-hunt.herokuapp.com/api/adv/take/\",\n",
    "        data = json.dumps({\"name\": item}),\n",
    "        headers = {\n",
    "            \"Authorization\": my_token,\n",
    "            \"Content-Type\": \"application/json\"\n",
    "        }\n",
    "    )\n",
    "\n",
    "    return r.json()"
   ]
  },
  {
   "cell_type": "code",
   "execution_count": 0,
   "metadata": {
    "colab": {},
    "colab_type": "code",
    "id": "9xibsKWalkEK"
   },
   "outputs": [],
   "source": [
    "def drop(item):\n",
    "    r = requests.post(\n",
    "        \"https://lambda-treasure-hunt.herokuapp.com/api/adv/drop/\",\n",
    "        data = json.dumps({\"name\": item}),\n",
    "        headers = {\n",
    "            \"Authorization\": my_token,\n",
    "            \"Content-Type\": \"application/json\"\n",
    "        }\n",
    "    )\n",
    "\n",
    "    return r.json()"
   ]
  },
  {
   "cell_type": "markdown",
   "metadata": {
    "colab_type": "text",
    "id": "ZLUHM52Tn5Ir"
   },
   "source": [
    "## Graph, Stack, and Queue"
   ]
  },
  {
   "cell_type": "code",
   "execution_count": 0,
   "metadata": {
    "colab": {},
    "colab_type": "code",
    "id": "uLMIcPcen8qx"
   },
   "outputs": [],
   "source": [
    "class Queue():\n",
    "    def __init__(self):\n",
    "        self.queue = []\n",
    "    def enqueue(self, value):\n",
    "        self.queue.append(value)\n",
    "    def dequeue(self):\n",
    "        if self.size() > 0:\n",
    "            return self.queue.pop(0)\n",
    "        else:\n",
    "            return None\n",
    "    def size(self):\n",
    "        return len(self.queue)\n",
    "\n",
    "\n",
    "class Stack():\n",
    "    def __init__(self):\n",
    "        self.stack = []\n",
    "    def push(self, value):\n",
    "        self.stack.append(value)\n",
    "    def pop(self):\n",
    "        if self.size() > 0:\n",
    "            return self.stack.pop()\n",
    "        else:\n",
    "            return None\n",
    "    def size(self):\n",
    "        return len(self.stack)\n",
    "\n",
    "\n",
    "class Graph:\n",
    "    \"\"\"Represent a graph as a dictionary of vertices mapping labels to edges.\"\"\"\n",
    "    def __init__(self):\n",
    "        self.vertices = {}\n",
    "\n",
    "\n",
    "    def add_vertex(self, vertex_id):\n",
    "        \"\"\"\n",
    "        Add a vertex to the graph.\n",
    "        \"\"\"\n",
    "        self.vertices[vertex_id] = {}\n",
    "\n",
    "\n",
    "    def add_edge(self, v1, v2):\n",
    "        \"\"\"\n",
    "        Add a directed edge to the graph.\n",
    "        \"\"\"\n",
    "        if v1 in self.vertices and v2 in self.vertices:\n",
    "            self.vertices[v1].add(v2)\n",
    "        else:\n",
    "            raise IndexError(\"That vertex does not exist.\")\n",
    "\n",
    "\n",
    "    def get_neighbors(self, vertex_id):\n",
    "        \"\"\"\n",
    "        Get all neighbors (edges) of a vertex.\n",
    "        \"\"\"\n",
    "        return self.vertices[vertex_id]\n",
    "\n",
    "\n",
    "    def bft(self, starting_vertex):\n",
    "        \"\"\"\n",
    "        Print each vertex in breadth-first order\n",
    "        beginning from starting_vertex.\n",
    "        \"\"\"\n",
    "        # Create an empty queue and enqueue starting vertex ID\n",
    "        q = Queue()\n",
    "        q.enqueue(starting_vertex)\n",
    "\n",
    "        # Create an empty set to store visited verticies\n",
    "        visited = set()\n",
    "        order = []\n",
    "\n",
    "        # While the queue is not empty\n",
    "        while q.size() > 0:\n",
    "            # Dequeue the first vertex\n",
    "            v = q.dequeue()\n",
    "            # If that vertex has not been visited\n",
    "            if v not in visited:\n",
    "                # Mark it as visited\n",
    "                #print(v)\n",
    "                order.append(v)\n",
    "                visited.add(v)\n",
    "                # Then add all of its neighbors to the back of the queue\n",
    "                for neighbor in self.vertices[v]:\n",
    "                    q.enqueue(neighbor)\n",
    "        return order\n",
    "\n",
    "\n",
    "    def dft(self, starting_vertex):\n",
    "        \"\"\"\n",
    "        Print each vertex in depth-first order\n",
    "        beginning from starting_vertex.\n",
    "        \"\"\"\n",
    "        # Create an empty Stack and push starting vertex ID\n",
    "        stack = Stack()\n",
    "        stack.push(starting_vertex)\n",
    "        order = []\n",
    "\n",
    "        # Create an empty set to store visited verticies\n",
    "        visited = set()\n",
    "\n",
    "        # While the stack is not empty\n",
    "        while stack.size() > 0:\n",
    "            # Pop the first vertex\n",
    "            v = stack.pop()\n",
    "            # If that vertex has not been visited\n",
    "            if v not in visited:\n",
    "                # Mark it as visited\n",
    "                #print(v)\n",
    "                visited.add(v)\n",
    "                order.append(v)\n",
    "                # Then add all of its neighbors to the top of the stack\n",
    "                for neighbor in self.vertices[v]:\n",
    "                    stack.push(neighbor)\n",
    "        return order\n",
    "\n",
    "\n",
    "    def dft_recursive(self, starting_vertex, visited = None):\n",
    "        \"\"\"\n",
    "        Print each vertex in depth-first order\n",
    "        beginning from starting_vertex.\n",
    "        This should be done using recursion.\n",
    "        \"\"\"\n",
    "        if visited is None:\n",
    "            visited = set()\n",
    "        visited.add(starting_vertex)\n",
    "        print(starting_vertex)\n",
    "        for child_vert in self.vertices[starting_vertex]:\n",
    "            if child_vert not in visited:\n",
    "                self.dft_recursive(child_vert, visited)\n",
    "\n",
    "\n",
    "    def bfs(self, starting_vertex, destination_vertex):\n",
    "        \"\"\"\n",
    "        Return a list containing the shortest path from\n",
    "        starting_vertex to destination_vertex in\n",
    "        breath-first order.\n",
    "        \"\"\"\n",
    "        # Create an empty queue and enqueue starting vertex ID\n",
    "        q = Queue()\n",
    "        # Enqueue a list to use as a path\n",
    "        q.enqueue([starting_vertex])\n",
    "\n",
    "        # Create an empty set to store visited verticies\n",
    "        visited = set()\n",
    "\n",
    "        # While the queue is not empty\n",
    "        while q.size() > 0:\n",
    "            # Dequeue the first vertex\n",
    "            path = q.dequeue()\n",
    "            v = path[-1]\n",
    "            # If that vertex has not been visited\n",
    "            if v not in visited:\n",
    "                if v == destination_vertex:\n",
    "                    # Do the thing\n",
    "                    return path\n",
    "                visited.add(v)\n",
    "                # Then add all of its neighbors to the back of the queue\n",
    "                for neighbor in self.vertices[v]:\n",
    "                    # Copy path to avoid pass by refference bug\n",
    "                    new_path  = list(path)\n",
    "                    new_path.append(neighbor)\n",
    "                    q.enqueue(new_path)\n",
    "\n",
    "\n",
    "    def dfs(self, starting_vertex, destination_vertex):\n",
    "        \"\"\"\n",
    "        Return a list containing a path from\n",
    "        starting_vertex to destination_vertex in\n",
    "        depth-first order.\n",
    "        \"\"\"\n",
    "        # Create an empty Stack and push starting vertex ID\n",
    "        stack = Stack()\n",
    "        # Push a list to use as a path\n",
    "        stack.push([starting_vertex])\n",
    "\n",
    "        # Create an empty set to store visited verticies\n",
    "        visited = set()\n",
    "\n",
    "        # While the stack is not empty\n",
    "        while stack.size() > 0:\n",
    "            # Pop the first vertex\n",
    "            path = stack.pop()\n",
    "            v = path[-1]\n",
    "            # If that vertex has not been visited\n",
    "            if v not in visited:\n",
    "                if v == destination_vertex:\n",
    "                    # Do the thing\n",
    "                    return path\n",
    "                visited.add(v)\n",
    "                # Then add all of its neighbors to the top of the stack\n",
    "                for neighbor in self.vertices[v]:\n",
    "                    # Copy path to avoid pass by refference bug\n",
    "                    new_path  = list(path)\n",
    "                    new_path.append(neighbor)\n",
    "                    stack.push(new_path)\n",
    "\n",
    "\n",
    "    def dfs_recursive(self, starting_vertex, destination_vertex,\n",
    "                      visited = None, path = None):\n",
    "        \"\"\"\n",
    "        Return a list containing a path from\n",
    "        starting_vertex to destination_vertex in\n",
    "        depth-first order.\n",
    "        This should be done using recursion.\n",
    "        \"\"\"\n",
    "        if visited is None:\n",
    "            visited = set()\n",
    "        if path is None:\n",
    "            path = []\n",
    "        visited.add(starting_vertex)\n",
    "        path = path + [starting_vertex]\n",
    "        if starting_vertex == destination_vertex:\n",
    "            return path\n",
    "        for child_vert in self.vertices[starting_vertex]:\n",
    "            if child_vert not in visited:\n",
    "                new_path = self.dfs_recursive(child_vert, destination_vertex,\n",
    "                 visited, path)\n",
    "                if new_path:\n",
    "                    return new_path\n",
    "        return None"
   ]
  },
  {
   "cell_type": "markdown",
   "metadata": {
    "colab_type": "text",
    "id": "LdRPSV4qnoUW"
   },
   "source": [
    "## Build a map"
   ]
  },
  {
   "cell_type": "code",
   "execution_count": 0,
   "metadata": {
    "colab": {},
    "colab_type": "code",
    "id": "yNRr8GPwnrJd"
   },
   "outputs": [],
   "source": [
    "# Create a dictionary of rooms and a dictionary of room info\n",
    "traversial_graph = {\n",
    "    player_2.current_room.id:\n",
    "        dict.fromkeys(player_2.current_room.get_exits(), '?')\n",
    "}\n",
    "\n",
    "room_infomation = {}"
   ]
  }
 ],
 "metadata": {
  "colab": {
   "name": "CS_Buildweek_2.ipynb",
   "provenance": []
  },
  "kernelspec": {
   "display_name": "Python 3",
   "language": "python",
   "name": "python3"
  },
  "language_info": {
   "codemirror_mode": {
    "name": "ipython",
    "version": 3
   },
   "file_extension": ".py",
   "mimetype": "text/x-python",
   "name": "python",
   "nbconvert_exporter": "python",
   "pygments_lexer": "ipython3",
   "version": "3.7.3"
  }
 },
 "nbformat": 4,
 "nbformat_minor": 1
}
